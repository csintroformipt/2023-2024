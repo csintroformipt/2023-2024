{
 "cells": [
  {
   "cell_type": "code",
   "execution_count": null,
   "metadata": {},
   "outputs": [],
   "source": [
    "import numpy as np"
   ]
  },
  {
   "cell_type": "code",
   "execution_count": null,
   "metadata": {
    "scrolled": false
   },
   "outputs": [],
   "source": [
    "ar = np.zeros([10,10], dtype='int')\n",
    "print(ar)\n",
    "print(ar.shape)\n",
    "print(ar.size)\n",
    "print(type(ar))\n",
    "print(ar[0])\n",
    "print(ar[0:5])\n",
    "print(ar[0:5][:-1])\n",
    "print(ar[0:5][1:5:2])\n",
    "print(ar[:])\n",
    "print(id(ar))"
   ]
  },
  {
   "cell_type": "code",
   "execution_count": null,
   "metadata": {},
   "outputs": [],
   "source": [
    "ar = np.ones([10,10], dtype='int')\n",
    "print(ar)\n",
    "print(ar.shape)\n",
    "print(ar.size)\n",
    "print(type(ar))\n",
    "print(ar[0])\n",
    "print(ar[0:5])\n",
    "print(ar[0:5][:-1])\n",
    "print(ar[0:5][1:5:2])\n",
    "print(ar[:])\n",
    "print(id(ar))"
   ]
  },
  {
   "cell_type": "code",
   "execution_count": null,
   "metadata": {},
   "outputs": [],
   "source": [
    "sizes = [10, 10]\n",
    "ar = np.arange(np.prod(sizes)).reshape(sizes)\n",
    "print(ar)\n",
    "print(ar.shape)\n",
    "print(ar.size)\n",
    "print(type(ar))\n",
    "print(ar[0])\n",
    "print(ar[0:5])\n",
    "print(ar[0:5][:-1])\n",
    "print(ar[0:5][1:5:2])\n",
    "print(ar[:])\n",
    "print(id(ar))"
   ]
  },
  {
   "cell_type": "code",
   "execution_count": null,
   "metadata": {},
   "outputs": [],
   "source": [
    "b = ar\n",
    "print(b)\n",
    "print(ar)\n",
    "b[0,0] = 100\n",
    "print(b)\n",
    "print(ar)\n",
    "print(id(b), id(ar))\n",
    "\n",
    "b = ar.copy()\n",
    "print(id(b), id(ar))\n",
    "b = ar[:]\n",
    "print(id(b), id(ar))"
   ]
  },
  {
   "cell_type": "code",
   "execution_count": null,
   "metadata": {},
   "outputs": [],
   "source": [
    "print(np.unique(ar[:], return_counts=True))"
   ]
  },
  {
   "cell_type": "code",
   "execution_count": null,
   "metadata": {},
   "outputs": [],
   "source": [
    "b = 2*np.eye(10, dtype=np.float)\n",
    "print(b)\n",
    "diag_values = np.diag(b, 1)\n",
    "print(np.diag(np.ones([9],dtype=np.float), 1))\n",
    "b -= np.diag(np.ones([9],dtype=np.float), 1)\n",
    "b -= np.diag(np.ones([9],dtype=np.float), -1)\n",
    "print(b)"
   ]
  },
  {
   "cell_type": "code",
   "execution_count": null,
   "metadata": {},
   "outputs": [],
   "source": [
    "rhs = np.zeros(b.shape[0])\n",
    "print(b.dtype)\n",
    "rhs[0] = 100\n",
    "rhs[-1] = 1\n",
    "print(rhs)\n",
    "sol = np.linalg.solve(b, rhs)\n",
    "print(sol)\n",
    " "
   ]
  },
  {
   "cell_type": "code",
   "execution_count": null,
   "metadata": {},
   "outputs": [],
   "source": [
    "from matplotlib import pyplot as plt\n",
    "\n",
    "plt.figure()\n",
    "plt.plot(sol)\n",
    "plt.show()"
   ]
  }
 ],
 "metadata": {
  "kernelspec": {
   "display_name": "Python 3",
   "language": "python",
   "name": "python3"
  },
  "language_info": {
   "codemirror_mode": {
    "name": "ipython",
    "version": 3
   },
   "file_extension": ".py",
   "mimetype": "text/x-python",
   "name": "python",
   "nbconvert_exporter": "python",
   "pygments_lexer": "ipython3",
   "version": "3.8.10"
  }
 },
 "nbformat": 4,
 "nbformat_minor": 4
}